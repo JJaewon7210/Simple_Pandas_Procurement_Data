{
  "cells": [
    {
      "cell_type": "code",
      "execution_count": 48,
      "metadata": {},
      "outputs": [],
      "source": [
        "import pandas as pd\n",
        "import openpyxl\n",
        "import re\n",
        "import datetime\n"
      ]
    },
    {
      "cell_type": "code",
      "execution_count": 49,
      "metadata": {},
      "outputs": [],
      "source": [
        "def getExcelFile(input_file_path, output_file_path):\n",
        "        \n",
        "    data = pd.read_csv(input_file_path, encoding='cp949', dtype=str )\n",
        "\n",
        "    # choose columns for analyze\n",
        "    data = data[['계약(납품요구)일자','계약(납품요구)번호','수요기관구분','수요기관지역명','물품분류번호','계약건명',\\\n",
        "                 '품명', '세부물품분류번호', '물품식별번호','세부품명', '품목', '단가', '수량', '단위', '금액']]\n",
        "\n",
        "    # change the data type\n",
        "    for name in ['세부물품분류번호','물품식별번호']:\n",
        "        data[name] = data[name].apply(lambda x: int(x.replace(',', '')))\n",
        "    for name in ['단가','수량','금액']:\n",
        "        try:\n",
        "            data[name] = data[name].apply(lambda x: float(x.replace(',', '')))\n",
        "        except ValueError:\n",
        "            data[name] = data[name].apply(lambda x: float(x))\n",
        "            \n",
        "\n",
        "\n",
        "    # group the data with the same '계약(납품요구)번호'\n",
        "    grouped_data = data.groupby('계약(납품요구)번호')\n",
        "\n",
        "    # preprocessed data\n",
        "    preprocess_data = pd.DataFrame()\n",
        "\n",
        "    # In each group, find the '냉난방기' in the column '세부품명'\n",
        "    # Loop through each group\n",
        "    for group_name, group_data in grouped_data:\n",
        "        \n",
        "        # Check there is kW information\n",
        "        try:\n",
        "            kW_filtered = group_data[group_data['품목'].str.contains('kW')]\n",
        "        except:\n",
        "            continue\n",
        "        if len(kW_filtered) == 0: continue\n",
        "        \n",
        "        # Check it is valid information\n",
        "        kW_filtered = kW_filtered[kW_filtered['수량'] > 0]\n",
        "        if len(kW_filtered) == 0: continue\n",
        "        \n",
        "        # Get the total kW information \n",
        "        pattern_cool = r'냉방(\\d+\\.\\d+|\\d+)' \n",
        "        pattern_heat = r'난방(\\d+\\.\\d+|\\d+)'\n",
        "        kW_cool = 0\n",
        "        kW_heat = 0\n",
        "        \n",
        "        category = []\n",
        "        for unit, words, contracts in zip(kW_filtered['수량'].to_list(), kW_filtered['품목'].to_list(), kW_filtered['계약건명'].to_list()):\n",
        "            match_cool = re.search(pattern_cool,words)\n",
        "            match_heat = re.search(pattern_heat,words)\n",
        "            \n",
        "            if match_cool: kW_cool += float(match_cool.group(1))*unit\n",
        "            if match_heat: kW_heat += float(match_heat.group(1))*unit\n",
        "        \n",
        "            # Get contract info\n",
        "            if '전기' in contracts: category.append('전기') \n",
        "            if 'EHP' in contracts: category.append('전기') \n",
        "            if '가스' in contracts: category.append('가스') \n",
        "            if 'GHP' in contracts: category.append('가스') \n",
        "            if '지열' in contracts: category.append('지열')\n",
        "\n",
        "        # Calculate total kW device cost\n",
        "        device_cost = kW_filtered['금액'].sum()\n",
        "        \n",
        "        # Calculate total construction cost\n",
        "        total_cost = group_data['금액'].sum()\n",
        "\n",
        "        # Get the location\n",
        "        area = group_data['수요기관지역명'].to_list()[0].split(' ')[0]\n",
        "        \n",
        "        # Get the organization type\n",
        "        organization = group_data['수요기관구분'].to_list()[0].split(' ')[0]\n",
        "        \n",
        "        # Get timestamp\n",
        "        timestamp = datetime.datetime.strptime(group_data['계약(납품요구)일자'].to_list()[0],\"%Y%m%d\")\n",
        "        \n",
        "        # Define a new row of data as a dictionary\n",
        "        new_data = {'수요기관지역명': area, '계약건명': ','.join(list(set(category))),'수요기관구분':organization, '장비금액': device_cost, '계약금액': total_cost, '냉방용량': kW_cool, '난방용량': kW_heat, '날짜':timestamp}\n",
        "        new_data = pd.DataFrame([new_data])\n",
        "        \n",
        "        # Concatenate the new DataFrame to the original empty DataFrame\n",
        "        preprocess_data = pd.concat([preprocess_data, new_data], ignore_index=True)\n",
        "\n",
        "    preprocess_data.to_excel(output_file_path)"
      ]
    },
    {
      "cell_type": "code",
      "execution_count": 50,
      "metadata": {},
      "outputs": [],
      "source": [
        "input_file_paths =  ['../data/input/특정품목 조달 내역_2020.csv','../data/input/특정품목 조달 내역_2021.csv','../data/input/특정품목 조달 내역_2022.csv']\n",
        "output_file_paths = ['../data/output/특정품목 조달 내역_2020.xlsx','../data/output/특정품목 조달 내역_2021.xlsx','../data/output/특정품목 조달 내역_2022.xlsx']\n",
        "\n",
        "for input_file_path, output_file_path in zip(input_file_paths, output_file_paths):\n",
        "    getExcelFile(input_file_path, output_file_path)"
      ]
    },
    {
      "cell_type": "code",
      "execution_count": 51,
      "metadata": {},
      "outputs": [],
      "source": [
        "# merge dataset\n",
        "df = pd.DataFrame()\n",
        "for output_file_path in output_file_paths:\n",
        "    new_df = pd.read_excel(output_file_path, index_col=0)\n",
        "    df = pd.concat([df,new_df])    \n",
        "\n",
        "df.to_excel('../data/output/특정품목 조달 내역_2020-2022.xlsx')"
      ]
    }
  ],
  "metadata": {
    "anaconda-cloud": {},
    "kernelspec": {
      "display_name": "base",
      "language": "python",
      "name": "python3"
    },
    "language_info": {
      "codemirror_mode": {
        "name": "ipython",
        "version": 3
      },
      "file_extension": ".py",
      "mimetype": "text/x-python",
      "name": "python",
      "nbconvert_exporter": "python",
      "pygments_lexer": "ipython3",
      "version": "3.7.10"
    },
    "vscode": {
      "interpreter": {
        "hash": "f9997f67e00106904dbf2c07c8316732d2ff7780722bfa2426e0f6625d160892"
      }
    }
  },
  "nbformat": 4,
  "nbformat_minor": 4
}
