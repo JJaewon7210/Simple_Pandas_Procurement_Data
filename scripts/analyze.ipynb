{
  "cells": [
    {
      "cell_type": "code",
      "execution_count": 29,
      "metadata": {},
      "outputs": [],
      "source": [
        "import pandas as pd\n",
        "import openpyxl\n",
        "import pandas as pd\n",
        "import matplotlib.pyplot as plt\n",
        "import matplotlib\n",
        "matplotlib.rcParams['axes.unicode_minus'] = False ## 마이나스 '-' 표시 제대로 출력\n",
        " \n",
        "from sklearn.linear_model import LinearRegression\n",
        "import statsmodels.api as sm"
      ]
    },
    {
      "cell_type": "code",
      "execution_count": 30,
      "metadata": {},
      "outputs": [
        {
          "name": "stdout",
          "output_type": "stream",
          "text": [
            "['NanumBarunpen', 'NanumSquareOTF_ac', 'NanumGothic', 'NanumSquareOTF', 'NanumBarunpen', 'NanumBarunGothic', 'NanumSquareOTF', 'NanumSquareOTF_ac', 'NanumSquare_ac', 'NanumMyeongjo']\n"
          ]
        }
      ],
      "source": [
        "# 한글 폰트\n",
        "import matplotlib.font_manager\n",
        "font_list = matplotlib.font_manager.findSystemFonts(fontpaths=None, fontext='ttf')\n",
        "print([matplotlib.font_manager.FontProperties(fname=font).get_name() for font in font_list if 'Nanum' in font][:10])\n",
        "plt.rcParams[\"font.family\"] = 'NanumSquareRound'\n",
        "plt.rcParams[\"figure.figsize\"] = (10,5)"
      ]
    },
    {
      "cell_type": "code",
      "execution_count": 31,
      "metadata": {},
      "outputs": [
        {
          "name": "stdout",
          "output_type": "stream",
          "text": [
            "  수요기관지역명 계약건명 수요기관구분      장비금액       계약금액    냉방용량    난방용량         날짜\n",
            "0     경기도  NaN   국가기관   6034460    6034460    40.2    45.4 2020-06-08\n",
            "1   서울특별시  NaN   국가기관  84395000   84395000  1013.2  1140.2 2020-10-13\n",
            "2   서울특별시  NaN   국가기관     94336    2162336   249.9   281.6 2020-10-21\n",
            "3   서울특별시  NaN    공기업  43490000  264110930   710.3   798.5 2020-02-26\n",
            "4   서울특별시  NaN   교육기관  33878539  140333009   674.3   757.9 2020-03-24\n"
          ]
        }
      ],
      "source": [
        "# get Data file\n",
        "file_path = '../data/output/특정품목 조달 내역_2020-2022.xlsx'\n",
        "data = pd.read_excel(file_path, index_col=0)\n",
        "print(data.head(5))"
      ]
    },
    {
      "cell_type": "code",
      "execution_count": 32,
      "metadata": {},
      "outputs": [],
      "source": [
        "# make new columns\n",
        "data['용량'] = data[['냉방용량','난방용량']].max(axis=1)\n",
        "\n",
        "# delete the row with the 0 cost\n",
        "data = data[data['계약금액'] != 0]\n",
        "data = data[data['장비금액'] != 0]\n",
        "data = data[data['용량'] != 0]\n",
        "\n",
        "# make new columns\n",
        "data['장비금액비율'] = data['장비금액']/data['계약금액']\n",
        "data = data[data['장비금액비율'] < 0.8]\n"
      ]
    },
    {
      "cell_type": "code",
      "execution_count": 33,
      "metadata": {},
      "outputs": [],
      "source": [
        "\n",
        "# calculate the lower and upper bounds based on the specified quantile value\n",
        "q1 = data['용량'].quantile(0.25)\n",
        "q3 = data['용량'].quantile(0.75)\n",
        "iqr = q3 - q1\n",
        "lower_bound = q1 - (1.5 * iqr)\n",
        "upper_bound = q3 + (1.5 * iqr)"
      ]
    },
    {
      "cell_type": "code",
      "execution_count": 34,
      "metadata": {},
      "outputs": [],
      "source": [
        "# filter out the outlier rows\n",
        "data = data[(data['용량'] >= lower_bound) & (data['용량'] <= upper_bound)]"
      ]
    },
    {
      "cell_type": "code",
      "execution_count": 35,
      "metadata": {},
      "outputs": [],
      "source": [
        "def getLinearRegression(x_column: str , y_column: str , data: pd.DataFrame):\n",
        "    # create a linear regression model\n",
        "    reg = LinearRegression().fit(data[[x_column]], data[[y_column]])\n",
        "\n",
        "    # use statsmodels to identify influential points\n",
        "    influence = sm.OLS(data[y_column], sm.add_constant(data[x_column])).fit().get_influence()\n",
        "    outliers = influence.summary_frame().loc[influence.summary_frame().cooks_d > 4/len(data)]\n",
        "\n",
        "    # remove the influential points from the dataframe\n",
        "    data_remove_outlier = data.drop(outliers.index)\n",
        "\n",
        "    # re-fit the linear regression model without the influential points\n",
        "    reg = LinearRegression().fit(data_remove_outlier[[x_column]], data_remove_outlier[[y_column]])\n",
        "\n",
        "    # print the coefficients\n",
        "    print('Intercept:', reg.intercept_)\n",
        "    print('Coefficient:', reg.coef_[0])\n",
        "    return reg, data_remove_outlier"
      ]
    },
    {
      "cell_type": "code",
      "execution_count": 36,
      "metadata": {},
      "outputs": [],
      "source": [
        "def drawLinearRegressionPlot(regression_model: LinearRegression, x_column:str, y_column:str, data: pd.DataFrame):\n",
        "    \n",
        "    # plot the scatter plot and linear regression line\n",
        "    fig, ax = plt.subplots()\n",
        "    ax.scatter(data[x_column], data[y_column], color='blue')\n",
        "    ax.plot(data[x_column], regression_model.predict(data[[x_column]]), color='red')\n",
        "    ax.set_xlabel(x_column)\n",
        "    ax.set_ylabel(y_column)\n",
        "    ax.set_title('Scatter plot with linear regression line')"
      ]
    },
    {
      "cell_type": "code",
      "execution_count": 37,
      "metadata": {},
      "outputs": [
        {
          "name": "stdout",
          "output_type": "stream",
          "text": [
            "Intercept: [1335719.76906264]\n",
            "Coefficient: [245184.37368054]\n"
          ]
        }
      ],
      "source": [
        "# create a linear regression model\n",
        "reg, data_outlier = getLinearRegression(x_column='용량', y_column='계약금액', data=data)\n",
        "# draw a linaer line\n",
        "%matplotlib widget\n",
        "drawLinearRegressionPlot(regression_model=reg, x_column='용량', y_column='계약금액', data=data_outlier)\n",
        "plt.cla()\n",
        "plt.show()"
      ]
    },
    {
      "cell_type": "code",
      "execution_count": 38,
      "metadata": {},
      "outputs": [],
      "source": [
        "# create a linear regression model\n",
        "reg, data_outlier = getLinearRegression(x_column='용량', y_column='장비금액비율', data=data)\n",
        "# draw a linaer line\n",
        "%matplotlib widget\n",
        "drawLinearRegressionPlot(regression_model=reg, x_column='용량', y_column='장비금액비율', data=data_outlier)\n",
        "plt.cla()\n",
        "plt.show()"
      ]
    },
    {
      "cell_type": "code",
      "execution_count": null,
      "metadata": {},
      "outputs": [],
      "source": [
        "# create boxplot\n",
        "stats = data_outlier.groupby('수요기관지역명').agg({'장비금액비율': ['mean'], '계약금액':['mean']})\n",
        "print(stats)"
      ]
    }
  ],
  "metadata": {
    "anaconda-cloud": {},
    "kernelspec": {
      "display_name": "base",
      "language": "python",
      "name": "python3"
    },
    "language_info": {
      "codemirror_mode": {
        "name": "ipython",
        "version": 3
      },
      "file_extension": ".py",
      "mimetype": "text/x-python",
      "name": "python",
      "nbconvert_exporter": "python",
      "pygments_lexer": "ipython3",
      "version": "3.7.10"
    },
    "vscode": {
      "interpreter": {
        "hash": "f9997f67e00106904dbf2c07c8316732d2ff7780722bfa2426e0f6625d160892"
      }
    }
  },
  "nbformat": 4,
  "nbformat_minor": 4
}
